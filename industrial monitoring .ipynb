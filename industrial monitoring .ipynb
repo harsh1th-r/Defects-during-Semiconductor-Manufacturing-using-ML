{
 "cells": [
  {
   "cell_type": "markdown",
   "metadata": {},
   "source": [
    "## IDENTIFYING DEFECTS DURING SEMICONDUCTOR MANUFACTURING USING MACHINE LEARNING.\n",
    " \n",
    "Data from a semi-conductor manufacturing process.\n",
    "\n",
    "#### Data Set Characteristics: Multivariate\n",
    "#### Number of Instances: 1567\n",
    "#### Area: Computer\n",
    "#### Attribute Characteristics: Real\n",
    "#### Number of Attributes: 10\n",
    "#### Associated Tasks: Classification, Causal-Discovery\n",
    "#### Missing Values? Yes\n",
    "| Variable          \t| Description                                    \t|\n",
    "|-------------------\t|------------------------------------------------\t|\n",
    "| Room_temp           \t| Room Temperature                                 \t|\n",
    "| Current_leakage    \t| Taken as a Amp or mA.                            \t|\n",
    "| Voltage_leakage     \t| Taken as a volt or mV.                        \t|\n",
    "| cmos_design        \t| measuerment of dimension                      \t|\n",
    "| Cut_off_freq         \t| The final limit taken                         \t|\n",
    "| Silica_effect     \t| Taken during wafer manufacturing              \t|\n",
    "| Avoid_dust_particle  \t| denisty of air and dust                         \t|\n",
    "| Avoid_uv_light    \t| the amount of darkness and light              \t|\n",
    "| Wafer_process        \t| overall design                                \t|\n"
   ]
  },
  {
   "cell_type": "code",
   "execution_count": 1,
   "metadata": {},
   "outputs": [],
   "source": [
    "import numpy as np\n",
    "import pandas as pd\n",
    "from pandas import Series,DataFrame\n",
    "import matplotlib.pyplot as plt\n",
    "from matplotlib import rcParams\n",
    "from matplotlib.cm import rainbow\n",
    "import warnings\n",
    "warnings.filterwarnings('ignore')\n",
    "%matplotlib inline\n",
    "import seaborn as sns\n",
    "\n",
    "from sklearn.preprocessing import StandardScaler\n",
    "from sklearn.preprocessing import MinMaxScaler"
   ]
  },
  {
   "cell_type": "code",
   "execution_count": 2,
   "metadata": {},
   "outputs": [],
   "source": [
    "data = pd.read_csv('data1.csv')"
   ]
  },
  {
   "cell_type": "code",
   "execution_count": 3,
   "metadata": {
    "scrolled": true
   },
   "outputs": [
    {
     "name": "stdout",
     "output_type": "stream",
     "text": [
      "<class 'pandas.core.frame.DataFrame'>\n",
      "RangeIndex: 1567 entries, 0 to 1566\n",
      "Data columns (total 11 columns):\n",
      " #   Column               Non-Null Count  Dtype  \n",
      "---  ------               --------------  -----  \n",
      " 0   Time                 1567 non-null   object \n",
      " 1   Room_Temp            1561 non-null   float64\n",
      " 2   silica_effect        1560 non-null   float64\n",
      " 3   cmoa_design          1553 non-null   float64\n",
      " 4   current_leakage      1553 non-null   float64\n",
      " 5   Voltage_leakage      1553 non-null   float64\n",
      " 6   Cut_off_freq         1553 non-null   float64\n",
      " 7   avoid_dust_partical  1553 non-null   float64\n",
      " 8   avoid_uv_light       1558 non-null   float64\n",
      " 9   wafer_process        1565 non-null   float64\n",
      " 10  Pass/Fail            1567 non-null   int64  \n",
      "dtypes: float64(9), int64(1), object(1)\n",
      "memory usage: 134.8+ KB\n"
     ]
    }
   ],
   "source": [
    "data.info()"
   ]
  },
  {
   "cell_type": "code",
   "execution_count": 4,
   "metadata": {},
   "outputs": [
    {
     "data": {
      "text/plain": [
       "Time                    object\n",
       "Room_Temp              float64\n",
       "silica_effect          float64\n",
       "cmoa_design            float64\n",
       "current_leakage        float64\n",
       "Voltage_leakage        float64\n",
       "Cut_off_freq           float64\n",
       "avoid_dust_partical    float64\n",
       "avoid_uv_light         float64\n",
       "wafer_process          float64\n",
       "Pass/Fail                int64\n",
       "dtype: object"
      ]
     },
     "execution_count": 4,
     "metadata": {},
     "output_type": "execute_result"
    }
   ],
   "source": [
    "data.dtypes"
   ]
  },
  {
   "cell_type": "code",
   "execution_count": 5,
   "metadata": {},
   "outputs": [],
   "source": [
    "# presence of missing data\n",
    "# ways to handle missing data\n",
    "# 1 if the data is huge we can remove \n",
    "# 2 if the data is numeric  using central tendecny \n",
    "# mean median r mode\n",
    "data = data.fillna(data.mean())"
   ]
  },
  {
   "cell_type": "code",
   "execution_count": 6,
   "metadata": {},
   "outputs": [
    {
     "data": {
      "text/plain": [
       "Time                   1567\n",
       "Room_Temp              1567\n",
       "silica_effect          1567\n",
       "cmoa_design            1567\n",
       "current_leakage        1567\n",
       "Voltage_leakage        1567\n",
       "Cut_off_freq           1567\n",
       "avoid_dust_partical    1567\n",
       "avoid_uv_light         1567\n",
       "wafer_process          1567\n",
       "Pass/Fail              1567\n",
       "dtype: int64"
      ]
     },
     "execution_count": 6,
     "metadata": {},
     "output_type": "execute_result"
    }
   ],
   "source": [
    "data.count()"
   ]
  },
  {
   "cell_type": "code",
   "execution_count": 7,
   "metadata": {},
   "outputs": [],
   "source": [
    "data = data.drop(['Time'], axis=1)"
   ]
  },
  {
   "cell_type": "code",
   "execution_count": 8,
   "metadata": {},
   "outputs": [
    {
     "name": "stdout",
     "output_type": "stream",
     "text": [
      "<class 'pandas.core.frame.DataFrame'>\n",
      "RangeIndex: 1567 entries, 0 to 1566\n",
      "Data columns (total 10 columns):\n",
      " #   Column               Non-Null Count  Dtype  \n",
      "---  ------               --------------  -----  \n",
      " 0   Room_Temp            1567 non-null   float64\n",
      " 1   silica_effect        1567 non-null   float64\n",
      " 2   cmoa_design          1567 non-null   float64\n",
      " 3   current_leakage      1567 non-null   float64\n",
      " 4   Voltage_leakage      1567 non-null   float64\n",
      " 5   Cut_off_freq         1567 non-null   float64\n",
      " 6   avoid_dust_partical  1567 non-null   float64\n",
      " 7   avoid_uv_light       1567 non-null   float64\n",
      " 8   wafer_process        1567 non-null   float64\n",
      " 9   Pass/Fail            1567 non-null   int64  \n",
      "dtypes: float64(9), int64(1)\n",
      "memory usage: 122.5 KB\n"
     ]
    }
   ],
   "source": [
    "data.info()"
   ]
  },
  {
   "cell_type": "code",
   "execution_count": 9,
   "metadata": {
    "scrolled": true
   },
   "outputs": [
    {
     "data": {
      "text/plain": [
       "Room_Temp              float64\n",
       "silica_effect          float64\n",
       "cmoa_design            float64\n",
       "current_leakage        float64\n",
       "Voltage_leakage        float64\n",
       "Cut_off_freq           float64\n",
       "avoid_dust_partical    float64\n",
       "avoid_uv_light         float64\n",
       "wafer_process          float64\n",
       "Pass/Fail                int64\n",
       "dtype: object"
      ]
     },
     "execution_count": 9,
     "metadata": {},
     "output_type": "execute_result"
    }
   ],
   "source": [
    "data.dtypes"
   ]
  },
  {
   "cell_type": "code",
   "execution_count": 10,
   "metadata": {
    "scrolled": true
   },
   "outputs": [
    {
     "data": {
      "text/html": [
       "<div>\n",
       "<style scoped>\n",
       "    .dataframe tbody tr th:only-of-type {\n",
       "        vertical-align: middle;\n",
       "    }\n",
       "\n",
       "    .dataframe tbody tr th {\n",
       "        vertical-align: top;\n",
       "    }\n",
       "\n",
       "    .dataframe thead th {\n",
       "        text-align: right;\n",
       "    }\n",
       "</style>\n",
       "<table border=\"1\" class=\"dataframe\">\n",
       "  <thead>\n",
       "    <tr style=\"text-align: right;\">\n",
       "      <th></th>\n",
       "      <th>Room_Temp</th>\n",
       "      <th>silica_effect</th>\n",
       "      <th>cmoa_design</th>\n",
       "      <th>current_leakage</th>\n",
       "      <th>Voltage_leakage</th>\n",
       "      <th>Cut_off_freq</th>\n",
       "      <th>avoid_dust_partical</th>\n",
       "      <th>avoid_uv_light</th>\n",
       "      <th>wafer_process</th>\n",
       "      <th>Pass/Fail</th>\n",
       "    </tr>\n",
       "  </thead>\n",
       "  <tbody>\n",
       "    <tr>\n",
       "      <th>0</th>\n",
       "      <td>3030.93</td>\n",
       "      <td>2564.00</td>\n",
       "      <td>2187.7333</td>\n",
       "      <td>1411.1265</td>\n",
       "      <td>1.3602</td>\n",
       "      <td>100.0</td>\n",
       "      <td>97.6133</td>\n",
       "      <td>0.1242</td>\n",
       "      <td>1.500500</td>\n",
       "      <td>-1</td>\n",
       "    </tr>\n",
       "    <tr>\n",
       "      <th>1</th>\n",
       "      <td>3095.78</td>\n",
       "      <td>2465.14</td>\n",
       "      <td>2230.4222</td>\n",
       "      <td>1463.6606</td>\n",
       "      <td>0.8294</td>\n",
       "      <td>100.0</td>\n",
       "      <td>102.3433</td>\n",
       "      <td>0.1247</td>\n",
       "      <td>1.496600</td>\n",
       "      <td>-1</td>\n",
       "    </tr>\n",
       "    <tr>\n",
       "      <th>2</th>\n",
       "      <td>2932.61</td>\n",
       "      <td>2559.94</td>\n",
       "      <td>2186.4111</td>\n",
       "      <td>1698.0172</td>\n",
       "      <td>1.5102</td>\n",
       "      <td>100.0</td>\n",
       "      <td>95.4878</td>\n",
       "      <td>0.1241</td>\n",
       "      <td>1.443600</td>\n",
       "      <td>1</td>\n",
       "    </tr>\n",
       "    <tr>\n",
       "      <th>3</th>\n",
       "      <td>2988.72</td>\n",
       "      <td>2479.90</td>\n",
       "      <td>2199.0333</td>\n",
       "      <td>909.7926</td>\n",
       "      <td>1.3204</td>\n",
       "      <td>100.0</td>\n",
       "      <td>104.2367</td>\n",
       "      <td>0.1217</td>\n",
       "      <td>1.488200</td>\n",
       "      <td>-1</td>\n",
       "    </tr>\n",
       "    <tr>\n",
       "      <th>4</th>\n",
       "      <td>3032.24</td>\n",
       "      <td>2502.87</td>\n",
       "      <td>2233.3667</td>\n",
       "      <td>1326.5200</td>\n",
       "      <td>1.5334</td>\n",
       "      <td>100.0</td>\n",
       "      <td>100.3967</td>\n",
       "      <td>0.1235</td>\n",
       "      <td>1.503100</td>\n",
       "      <td>-1</td>\n",
       "    </tr>\n",
       "    <tr>\n",
       "      <th>...</th>\n",
       "      <td>...</td>\n",
       "      <td>...</td>\n",
       "      <td>...</td>\n",
       "      <td>...</td>\n",
       "      <td>...</td>\n",
       "      <td>...</td>\n",
       "      <td>...</td>\n",
       "      <td>...</td>\n",
       "      <td>...</td>\n",
       "      <td>...</td>\n",
       "    </tr>\n",
       "    <tr>\n",
       "      <th>1562</th>\n",
       "      <td>2899.41</td>\n",
       "      <td>2464.36</td>\n",
       "      <td>2179.7333</td>\n",
       "      <td>3085.3781</td>\n",
       "      <td>1.4843</td>\n",
       "      <td>100.0</td>\n",
       "      <td>82.2467</td>\n",
       "      <td>0.1248</td>\n",
       "      <td>1.342400</td>\n",
       "      <td>-1</td>\n",
       "    </tr>\n",
       "    <tr>\n",
       "      <th>1563</th>\n",
       "      <td>3052.31</td>\n",
       "      <td>2522.55</td>\n",
       "      <td>2198.5667</td>\n",
       "      <td>1124.6595</td>\n",
       "      <td>0.8763</td>\n",
       "      <td>100.0</td>\n",
       "      <td>98.4689</td>\n",
       "      <td>0.1205</td>\n",
       "      <td>1.433300</td>\n",
       "      <td>-1</td>\n",
       "    </tr>\n",
       "    <tr>\n",
       "      <th>1564</th>\n",
       "      <td>2978.81</td>\n",
       "      <td>2379.78</td>\n",
       "      <td>2206.3000</td>\n",
       "      <td>1110.4967</td>\n",
       "      <td>0.8236</td>\n",
       "      <td>100.0</td>\n",
       "      <td>99.4122</td>\n",
       "      <td>0.1208</td>\n",
       "      <td>1.462862</td>\n",
       "      <td>-1</td>\n",
       "    </tr>\n",
       "    <tr>\n",
       "      <th>1565</th>\n",
       "      <td>2894.92</td>\n",
       "      <td>2532.01</td>\n",
       "      <td>2177.0333</td>\n",
       "      <td>1183.7287</td>\n",
       "      <td>1.5726</td>\n",
       "      <td>100.0</td>\n",
       "      <td>98.7978</td>\n",
       "      <td>0.1213</td>\n",
       "      <td>1.462200</td>\n",
       "      <td>-1</td>\n",
       "    </tr>\n",
       "    <tr>\n",
       "      <th>1566</th>\n",
       "      <td>2944.92</td>\n",
       "      <td>2450.76</td>\n",
       "      <td>2195.4444</td>\n",
       "      <td>2914.1792</td>\n",
       "      <td>1.5978</td>\n",
       "      <td>100.0</td>\n",
       "      <td>85.1011</td>\n",
       "      <td>0.1235</td>\n",
       "      <td>1.462862</td>\n",
       "      <td>-1</td>\n",
       "    </tr>\n",
       "  </tbody>\n",
       "</table>\n",
       "<p>1567 rows × 10 columns</p>\n",
       "</div>"
      ],
      "text/plain": [
       "      Room_Temp  silica_effect   cmoa_design  current_leakage  \\\n",
       "0       3030.93         2564.00    2187.7333        1411.1265   \n",
       "1       3095.78         2465.14    2230.4222        1463.6606   \n",
       "2       2932.61         2559.94    2186.4111        1698.0172   \n",
       "3       2988.72         2479.90    2199.0333         909.7926   \n",
       "4       3032.24         2502.87    2233.3667        1326.5200   \n",
       "...         ...             ...          ...              ...   \n",
       "1562    2899.41         2464.36    2179.7333        3085.3781   \n",
       "1563    3052.31         2522.55    2198.5667        1124.6595   \n",
       "1564    2978.81         2379.78    2206.3000        1110.4967   \n",
       "1565    2894.92         2532.01    2177.0333        1183.7287   \n",
       "1566    2944.92         2450.76    2195.4444        2914.1792   \n",
       "\n",
       "      Voltage_leakage  Cut_off_freq  avoid_dust_partical  avoid_uv_light  \\\n",
       "0              1.3602         100.0              97.6133          0.1242   \n",
       "1              0.8294         100.0             102.3433          0.1247   \n",
       "2              1.5102         100.0              95.4878          0.1241   \n",
       "3              1.3204         100.0             104.2367          0.1217   \n",
       "4              1.5334         100.0             100.3967          0.1235   \n",
       "...               ...           ...                  ...             ...   \n",
       "1562           1.4843         100.0              82.2467          0.1248   \n",
       "1563           0.8763         100.0              98.4689          0.1205   \n",
       "1564           0.8236         100.0              99.4122          0.1208   \n",
       "1565           1.5726         100.0              98.7978          0.1213   \n",
       "1566           1.5978         100.0              85.1011          0.1235   \n",
       "\n",
       "      wafer_process  Pass/Fail  \n",
       "0          1.500500         -1  \n",
       "1          1.496600         -1  \n",
       "2          1.443600          1  \n",
       "3          1.488200         -1  \n",
       "4          1.503100         -1  \n",
       "...             ...        ...  \n",
       "1562       1.342400         -1  \n",
       "1563       1.433300         -1  \n",
       "1564       1.462862         -1  \n",
       "1565       1.462200         -1  \n",
       "1566       1.462862         -1  \n",
       "\n",
       "[1567 rows x 10 columns]"
      ]
     },
     "execution_count": 10,
     "metadata": {},
     "output_type": "execute_result"
    }
   ],
   "source": [
    "data"
   ]
  },
  {
   "cell_type": "code",
   "execution_count": 11,
   "metadata": {},
   "outputs": [
    {
     "data": {
      "text/html": [
       "<div>\n",
       "<style scoped>\n",
       "    .dataframe tbody tr th:only-of-type {\n",
       "        vertical-align: middle;\n",
       "    }\n",
       "\n",
       "    .dataframe tbody tr th {\n",
       "        vertical-align: top;\n",
       "    }\n",
       "\n",
       "    .dataframe thead th {\n",
       "        text-align: right;\n",
       "    }\n",
       "</style>\n",
       "<table border=\"1\" class=\"dataframe\">\n",
       "  <thead>\n",
       "    <tr style=\"text-align: right;\">\n",
       "      <th></th>\n",
       "      <th>Room_Temp</th>\n",
       "      <th>silica_effect</th>\n",
       "      <th>cmoa_design</th>\n",
       "      <th>current_leakage</th>\n",
       "      <th>Voltage_leakage</th>\n",
       "      <th>Cut_off_freq</th>\n",
       "      <th>avoid_dust_partical</th>\n",
       "      <th>avoid_uv_light</th>\n",
       "      <th>wafer_process</th>\n",
       "      <th>Pass/Fail</th>\n",
       "    </tr>\n",
       "  </thead>\n",
       "  <tbody>\n",
       "    <tr>\n",
       "      <th>count</th>\n",
       "      <td>1567.000000</td>\n",
       "      <td>1567.000000</td>\n",
       "      <td>1567.000000</td>\n",
       "      <td>1567.000000</td>\n",
       "      <td>1567.000000</td>\n",
       "      <td>1567.0</td>\n",
       "      <td>1567.000000</td>\n",
       "      <td>1567.000000</td>\n",
       "      <td>1567.000000</td>\n",
       "      <td>1567.000000</td>\n",
       "    </tr>\n",
       "    <tr>\n",
       "      <th>mean</th>\n",
       "      <td>3014.452896</td>\n",
       "      <td>2495.850231</td>\n",
       "      <td>2200.547318</td>\n",
       "      <td>1396.376627</td>\n",
       "      <td>4.197013</td>\n",
       "      <td>100.0</td>\n",
       "      <td>101.112908</td>\n",
       "      <td>0.121822</td>\n",
       "      <td>1.462862</td>\n",
       "      <td>-0.867262</td>\n",
       "    </tr>\n",
       "    <tr>\n",
       "      <th>std</th>\n",
       "      <td>73.480613</td>\n",
       "      <td>80.227793</td>\n",
       "      <td>29.380932</td>\n",
       "      <td>439.712852</td>\n",
       "      <td>56.103066</td>\n",
       "      <td>0.0</td>\n",
       "      <td>6.209271</td>\n",
       "      <td>0.008936</td>\n",
       "      <td>0.073849</td>\n",
       "      <td>0.498010</td>\n",
       "    </tr>\n",
       "    <tr>\n",
       "      <th>min</th>\n",
       "      <td>2743.240000</td>\n",
       "      <td>2158.750000</td>\n",
       "      <td>2060.660000</td>\n",
       "      <td>0.000000</td>\n",
       "      <td>0.681500</td>\n",
       "      <td>100.0</td>\n",
       "      <td>82.131100</td>\n",
       "      <td>0.000000</td>\n",
       "      <td>1.191000</td>\n",
       "      <td>-1.000000</td>\n",
       "    </tr>\n",
       "    <tr>\n",
       "      <th>25%</th>\n",
       "      <td>2966.665000</td>\n",
       "      <td>2452.885000</td>\n",
       "      <td>2181.099950</td>\n",
       "      <td>1083.885800</td>\n",
       "      <td>1.017700</td>\n",
       "      <td>100.0</td>\n",
       "      <td>97.937800</td>\n",
       "      <td>0.121100</td>\n",
       "      <td>1.411250</td>\n",
       "      <td>-1.000000</td>\n",
       "    </tr>\n",
       "    <tr>\n",
       "      <th>50%</th>\n",
       "      <td>3011.840000</td>\n",
       "      <td>2498.910000</td>\n",
       "      <td>2200.955600</td>\n",
       "      <td>1287.353800</td>\n",
       "      <td>1.317100</td>\n",
       "      <td>100.0</td>\n",
       "      <td>101.492200</td>\n",
       "      <td>0.122400</td>\n",
       "      <td>1.461600</td>\n",
       "      <td>-1.000000</td>\n",
       "    </tr>\n",
       "    <tr>\n",
       "      <th>75%</th>\n",
       "      <td>3056.540000</td>\n",
       "      <td>2538.745000</td>\n",
       "      <td>2218.055500</td>\n",
       "      <td>1590.169900</td>\n",
       "      <td>1.529600</td>\n",
       "      <td>100.0</td>\n",
       "      <td>104.530000</td>\n",
       "      <td>0.123800</td>\n",
       "      <td>1.516850</td>\n",
       "      <td>-1.000000</td>\n",
       "    </tr>\n",
       "    <tr>\n",
       "      <th>max</th>\n",
       "      <td>3356.350000</td>\n",
       "      <td>2846.440000</td>\n",
       "      <td>2315.266700</td>\n",
       "      <td>3715.041700</td>\n",
       "      <td>1114.536600</td>\n",
       "      <td>100.0</td>\n",
       "      <td>129.252200</td>\n",
       "      <td>0.128600</td>\n",
       "      <td>1.656400</td>\n",
       "      <td>1.000000</td>\n",
       "    </tr>\n",
       "  </tbody>\n",
       "</table>\n",
       "</div>"
      ],
      "text/plain": [
       "         Room_Temp  silica_effect   cmoa_design  current_leakage  \\\n",
       "count  1567.000000     1567.000000  1567.000000      1567.000000   \n",
       "mean   3014.452896     2495.850231  2200.547318      1396.376627   \n",
       "std      73.480613       80.227793    29.380932       439.712852   \n",
       "min    2743.240000     2158.750000  2060.660000         0.000000   \n",
       "25%    2966.665000     2452.885000  2181.099950      1083.885800   \n",
       "50%    3011.840000     2498.910000  2200.955600      1287.353800   \n",
       "75%    3056.540000     2538.745000  2218.055500      1590.169900   \n",
       "max    3356.350000     2846.440000  2315.266700      3715.041700   \n",
       "\n",
       "       Voltage_leakage  Cut_off_freq  avoid_dust_partical  avoid_uv_light  \\\n",
       "count      1567.000000        1567.0          1567.000000     1567.000000   \n",
       "mean          4.197013         100.0           101.112908        0.121822   \n",
       "std          56.103066           0.0             6.209271        0.008936   \n",
       "min           0.681500         100.0            82.131100        0.000000   \n",
       "25%           1.017700         100.0            97.937800        0.121100   \n",
       "50%           1.317100         100.0           101.492200        0.122400   \n",
       "75%           1.529600         100.0           104.530000        0.123800   \n",
       "max        1114.536600         100.0           129.252200        0.128600   \n",
       "\n",
       "       wafer_process    Pass/Fail  \n",
       "count    1567.000000  1567.000000  \n",
       "mean        1.462862    -0.867262  \n",
       "std         0.073849     0.498010  \n",
       "min         1.191000    -1.000000  \n",
       "25%         1.411250    -1.000000  \n",
       "50%         1.461600    -1.000000  \n",
       "75%         1.516850    -1.000000  \n",
       "max         1.656400     1.000000  "
      ]
     },
     "execution_count": 11,
     "metadata": {},
     "output_type": "execute_result"
    }
   ],
   "source": [
    "data.describe()"
   ]
  },
  {
   "cell_type": "code",
   "execution_count": 12,
   "metadata": {},
   "outputs": [
    {
     "data": {
      "text/plain": [
       "pandas.core.frame.DataFrame"
      ]
     },
     "execution_count": 12,
     "metadata": {},
     "output_type": "execute_result"
    }
   ],
   "source": [
    "type(data)"
   ]
  },
  {
   "cell_type": "code",
   "execution_count": 13,
   "metadata": {},
   "outputs": [
    {
     "data": {
      "text/html": [
       "<div>\n",
       "<style scoped>\n",
       "    .dataframe tbody tr th:only-of-type {\n",
       "        vertical-align: middle;\n",
       "    }\n",
       "\n",
       "    .dataframe tbody tr th {\n",
       "        vertical-align: top;\n",
       "    }\n",
       "\n",
       "    .dataframe thead th {\n",
       "        text-align: right;\n",
       "    }\n",
       "</style>\n",
       "<table border=\"1\" class=\"dataframe\">\n",
       "  <thead>\n",
       "    <tr style=\"text-align: right;\">\n",
       "      <th></th>\n",
       "      <th>Room_Temp</th>\n",
       "      <th>silica_effect</th>\n",
       "      <th>cmoa_design</th>\n",
       "      <th>current_leakage</th>\n",
       "      <th>Voltage_leakage</th>\n",
       "      <th>Cut_off_freq</th>\n",
       "      <th>avoid_dust_partical</th>\n",
       "      <th>avoid_uv_light</th>\n",
       "      <th>wafer_process</th>\n",
       "      <th>Pass/Fail</th>\n",
       "    </tr>\n",
       "  </thead>\n",
       "  <tbody>\n",
       "    <tr>\n",
       "      <th>0</th>\n",
       "      <td>3030.93</td>\n",
       "      <td>2564.00</td>\n",
       "      <td>2187.7333</td>\n",
       "      <td>1411.1265</td>\n",
       "      <td>1.3602</td>\n",
       "      <td>100.0</td>\n",
       "      <td>97.6133</td>\n",
       "      <td>0.1242</td>\n",
       "      <td>1.5005</td>\n",
       "      <td>-1</td>\n",
       "    </tr>\n",
       "    <tr>\n",
       "      <th>1</th>\n",
       "      <td>3095.78</td>\n",
       "      <td>2465.14</td>\n",
       "      <td>2230.4222</td>\n",
       "      <td>1463.6606</td>\n",
       "      <td>0.8294</td>\n",
       "      <td>100.0</td>\n",
       "      <td>102.3433</td>\n",
       "      <td>0.1247</td>\n",
       "      <td>1.4966</td>\n",
       "      <td>-1</td>\n",
       "    </tr>\n",
       "    <tr>\n",
       "      <th>2</th>\n",
       "      <td>2932.61</td>\n",
       "      <td>2559.94</td>\n",
       "      <td>2186.4111</td>\n",
       "      <td>1698.0172</td>\n",
       "      <td>1.5102</td>\n",
       "      <td>100.0</td>\n",
       "      <td>95.4878</td>\n",
       "      <td>0.1241</td>\n",
       "      <td>1.4436</td>\n",
       "      <td>1</td>\n",
       "    </tr>\n",
       "    <tr>\n",
       "      <th>3</th>\n",
       "      <td>2988.72</td>\n",
       "      <td>2479.90</td>\n",
       "      <td>2199.0333</td>\n",
       "      <td>909.7926</td>\n",
       "      <td>1.3204</td>\n",
       "      <td>100.0</td>\n",
       "      <td>104.2367</td>\n",
       "      <td>0.1217</td>\n",
       "      <td>1.4882</td>\n",
       "      <td>-1</td>\n",
       "    </tr>\n",
       "    <tr>\n",
       "      <th>4</th>\n",
       "      <td>3032.24</td>\n",
       "      <td>2502.87</td>\n",
       "      <td>2233.3667</td>\n",
       "      <td>1326.5200</td>\n",
       "      <td>1.5334</td>\n",
       "      <td>100.0</td>\n",
       "      <td>100.3967</td>\n",
       "      <td>0.1235</td>\n",
       "      <td>1.5031</td>\n",
       "      <td>-1</td>\n",
       "    </tr>\n",
       "  </tbody>\n",
       "</table>\n",
       "</div>"
      ],
      "text/plain": [
       "   Room_Temp  silica_effect   cmoa_design  current_leakage  Voltage_leakage  \\\n",
       "0    3030.93         2564.00    2187.7333        1411.1265           1.3602   \n",
       "1    3095.78         2465.14    2230.4222        1463.6606           0.8294   \n",
       "2    2932.61         2559.94    2186.4111        1698.0172           1.5102   \n",
       "3    2988.72         2479.90    2199.0333         909.7926           1.3204   \n",
       "4    3032.24         2502.87    2233.3667        1326.5200           1.5334   \n",
       "\n",
       "   Cut_off_freq  avoid_dust_partical  avoid_uv_light  wafer_process  Pass/Fail  \n",
       "0         100.0              97.6133          0.1242         1.5005         -1  \n",
       "1         100.0             102.3433          0.1247         1.4966         -1  \n",
       "2         100.0              95.4878          0.1241         1.4436          1  \n",
       "3         100.0             104.2367          0.1217         1.4882         -1  \n",
       "4         100.0             100.3967          0.1235         1.5031         -1  "
      ]
     },
     "execution_count": 13,
     "metadata": {},
     "output_type": "execute_result"
    }
   ],
   "source": [
    "data.head()"
   ]
  },
  {
   "cell_type": "code",
   "execution_count": 14,
   "metadata": {},
   "outputs": [
    {
     "data": {
      "text/plain": [
       "count    1567.000000\n",
       "mean       -0.867262\n",
       "std         0.498010\n",
       "min        -1.000000\n",
       "25%        -1.000000\n",
       "50%        -1.000000\n",
       "75%        -1.000000\n",
       "max         1.000000\n",
       "Name: Pass/Fail, dtype: float64"
      ]
     },
     "execution_count": 14,
     "metadata": {},
     "output_type": "execute_result"
    }
   ],
   "source": [
    "data[\"Pass/Fail\"].describe()"
   ]
  },
  {
   "cell_type": "code",
   "execution_count": 15,
   "metadata": {},
   "outputs": [
    {
     "data": {
      "text/plain": [
       "array([-1,  1], dtype=int64)"
      ]
     },
     "execution_count": 15,
     "metadata": {},
     "output_type": "execute_result"
    }
   ],
   "source": [
    "data[\"Pass/Fail\"].unique()"
   ]
  },
  {
   "cell_type": "code",
   "execution_count": 16,
   "metadata": {},
   "outputs": [
    {
     "name": "stdout",
     "output_type": "stream",
     "text": [
      "Pass/Fail              1.000000\n",
      "wafer_process          0.028016\n",
      "Room_Temp              0.025141\n",
      "current_leakage        0.024623\n",
      "avoid_dust_partical    0.016239\n",
      "Voltage_leakage        0.013756\n",
      "avoid_uv_light         0.012991\n",
      "silica_effect          0.002603\n",
      "cmoa_design            0.000957\n",
      "Cut_off_freq                NaN\n",
      "Name: Pass/Fail, dtype: float64\n"
     ]
    }
   ],
   "source": [
    "print(data.corr()[\"Pass/Fail\"].abs().sort_values(ascending=False))"
   ]
  },
  {
   "cell_type": "code",
   "execution_count": 17,
   "metadata": {},
   "outputs": [
    {
     "data": {
      "text/html": [
       "<div>\n",
       "<style scoped>\n",
       "    .dataframe tbody tr th:only-of-type {\n",
       "        vertical-align: middle;\n",
       "    }\n",
       "\n",
       "    .dataframe tbody tr th {\n",
       "        vertical-align: top;\n",
       "    }\n",
       "\n",
       "    .dataframe thead th {\n",
       "        text-align: right;\n",
       "    }\n",
       "</style>\n",
       "<table border=\"1\" class=\"dataframe\">\n",
       "  <thead>\n",
       "    <tr style=\"text-align: right;\">\n",
       "      <th></th>\n",
       "      <th>Room_Temp</th>\n",
       "      <th>silica_effect</th>\n",
       "      <th>cmoa_design</th>\n",
       "      <th>current_leakage</th>\n",
       "      <th>Voltage_leakage</th>\n",
       "      <th>Cut_off_freq</th>\n",
       "      <th>avoid_dust_partical</th>\n",
       "      <th>avoid_uv_light</th>\n",
       "      <th>wafer_process</th>\n",
       "      <th>Pass/Fail</th>\n",
       "    </tr>\n",
       "  </thead>\n",
       "  <tbody>\n",
       "    <tr>\n",
       "      <th>0</th>\n",
       "      <td>3030.93</td>\n",
       "      <td>2564.00</td>\n",
       "      <td>2187.7333</td>\n",
       "      <td>1411.1265</td>\n",
       "      <td>1.3602</td>\n",
       "      <td>100.0</td>\n",
       "      <td>97.6133</td>\n",
       "      <td>0.1242</td>\n",
       "      <td>1.500500</td>\n",
       "      <td>-1</td>\n",
       "    </tr>\n",
       "    <tr>\n",
       "      <th>1</th>\n",
       "      <td>3095.78</td>\n",
       "      <td>2465.14</td>\n",
       "      <td>2230.4222</td>\n",
       "      <td>1463.6606</td>\n",
       "      <td>0.8294</td>\n",
       "      <td>100.0</td>\n",
       "      <td>102.3433</td>\n",
       "      <td>0.1247</td>\n",
       "      <td>1.496600</td>\n",
       "      <td>-1</td>\n",
       "    </tr>\n",
       "    <tr>\n",
       "      <th>2</th>\n",
       "      <td>2932.61</td>\n",
       "      <td>2559.94</td>\n",
       "      <td>2186.4111</td>\n",
       "      <td>1698.0172</td>\n",
       "      <td>1.5102</td>\n",
       "      <td>100.0</td>\n",
       "      <td>95.4878</td>\n",
       "      <td>0.1241</td>\n",
       "      <td>1.443600</td>\n",
       "      <td>1</td>\n",
       "    </tr>\n",
       "    <tr>\n",
       "      <th>3</th>\n",
       "      <td>2988.72</td>\n",
       "      <td>2479.90</td>\n",
       "      <td>2199.0333</td>\n",
       "      <td>909.7926</td>\n",
       "      <td>1.3204</td>\n",
       "      <td>100.0</td>\n",
       "      <td>104.2367</td>\n",
       "      <td>0.1217</td>\n",
       "      <td>1.488200</td>\n",
       "      <td>-1</td>\n",
       "    </tr>\n",
       "    <tr>\n",
       "      <th>4</th>\n",
       "      <td>3032.24</td>\n",
       "      <td>2502.87</td>\n",
       "      <td>2233.3667</td>\n",
       "      <td>1326.5200</td>\n",
       "      <td>1.5334</td>\n",
       "      <td>100.0</td>\n",
       "      <td>100.3967</td>\n",
       "      <td>0.1235</td>\n",
       "      <td>1.503100</td>\n",
       "      <td>-1</td>\n",
       "    </tr>\n",
       "    <tr>\n",
       "      <th>...</th>\n",
       "      <td>...</td>\n",
       "      <td>...</td>\n",
       "      <td>...</td>\n",
       "      <td>...</td>\n",
       "      <td>...</td>\n",
       "      <td>...</td>\n",
       "      <td>...</td>\n",
       "      <td>...</td>\n",
       "      <td>...</td>\n",
       "      <td>...</td>\n",
       "    </tr>\n",
       "    <tr>\n",
       "      <th>1562</th>\n",
       "      <td>2899.41</td>\n",
       "      <td>2464.36</td>\n",
       "      <td>2179.7333</td>\n",
       "      <td>3085.3781</td>\n",
       "      <td>1.4843</td>\n",
       "      <td>100.0</td>\n",
       "      <td>82.2467</td>\n",
       "      <td>0.1248</td>\n",
       "      <td>1.342400</td>\n",
       "      <td>-1</td>\n",
       "    </tr>\n",
       "    <tr>\n",
       "      <th>1563</th>\n",
       "      <td>3052.31</td>\n",
       "      <td>2522.55</td>\n",
       "      <td>2198.5667</td>\n",
       "      <td>1124.6595</td>\n",
       "      <td>0.8763</td>\n",
       "      <td>100.0</td>\n",
       "      <td>98.4689</td>\n",
       "      <td>0.1205</td>\n",
       "      <td>1.433300</td>\n",
       "      <td>-1</td>\n",
       "    </tr>\n",
       "    <tr>\n",
       "      <th>1564</th>\n",
       "      <td>2978.81</td>\n",
       "      <td>2379.78</td>\n",
       "      <td>2206.3000</td>\n",
       "      <td>1110.4967</td>\n",
       "      <td>0.8236</td>\n",
       "      <td>100.0</td>\n",
       "      <td>99.4122</td>\n",
       "      <td>0.1208</td>\n",
       "      <td>1.462862</td>\n",
       "      <td>-1</td>\n",
       "    </tr>\n",
       "    <tr>\n",
       "      <th>1565</th>\n",
       "      <td>2894.92</td>\n",
       "      <td>2532.01</td>\n",
       "      <td>2177.0333</td>\n",
       "      <td>1183.7287</td>\n",
       "      <td>1.5726</td>\n",
       "      <td>100.0</td>\n",
       "      <td>98.7978</td>\n",
       "      <td>0.1213</td>\n",
       "      <td>1.462200</td>\n",
       "      <td>-1</td>\n",
       "    </tr>\n",
       "    <tr>\n",
       "      <th>1566</th>\n",
       "      <td>2944.92</td>\n",
       "      <td>2450.76</td>\n",
       "      <td>2195.4444</td>\n",
       "      <td>2914.1792</td>\n",
       "      <td>1.5978</td>\n",
       "      <td>100.0</td>\n",
       "      <td>85.1011</td>\n",
       "      <td>0.1235</td>\n",
       "      <td>1.462862</td>\n",
       "      <td>-1</td>\n",
       "    </tr>\n",
       "  </tbody>\n",
       "</table>\n",
       "<p>1567 rows × 10 columns</p>\n",
       "</div>"
      ],
      "text/plain": [
       "      Room_Temp  silica_effect   cmoa_design  current_leakage  \\\n",
       "0       3030.93         2564.00    2187.7333        1411.1265   \n",
       "1       3095.78         2465.14    2230.4222        1463.6606   \n",
       "2       2932.61         2559.94    2186.4111        1698.0172   \n",
       "3       2988.72         2479.90    2199.0333         909.7926   \n",
       "4       3032.24         2502.87    2233.3667        1326.5200   \n",
       "...         ...             ...          ...              ...   \n",
       "1562    2899.41         2464.36    2179.7333        3085.3781   \n",
       "1563    3052.31         2522.55    2198.5667        1124.6595   \n",
       "1564    2978.81         2379.78    2206.3000        1110.4967   \n",
       "1565    2894.92         2532.01    2177.0333        1183.7287   \n",
       "1566    2944.92         2450.76    2195.4444        2914.1792   \n",
       "\n",
       "      Voltage_leakage  Cut_off_freq  avoid_dust_partical  avoid_uv_light  \\\n",
       "0              1.3602         100.0              97.6133          0.1242   \n",
       "1              0.8294         100.0             102.3433          0.1247   \n",
       "2              1.5102         100.0              95.4878          0.1241   \n",
       "3              1.3204         100.0             104.2367          0.1217   \n",
       "4              1.5334         100.0             100.3967          0.1235   \n",
       "...               ...           ...                  ...             ...   \n",
       "1562           1.4843         100.0              82.2467          0.1248   \n",
       "1563           0.8763         100.0              98.4689          0.1205   \n",
       "1564           0.8236         100.0              99.4122          0.1208   \n",
       "1565           1.5726         100.0              98.7978          0.1213   \n",
       "1566           1.5978         100.0              85.1011          0.1235   \n",
       "\n",
       "      wafer_process  Pass/Fail  \n",
       "0          1.500500         -1  \n",
       "1          1.496600         -1  \n",
       "2          1.443600          1  \n",
       "3          1.488200         -1  \n",
       "4          1.503100         -1  \n",
       "...             ...        ...  \n",
       "1562       1.342400         -1  \n",
       "1563       1.433300         -1  \n",
       "1564       1.462862         -1  \n",
       "1565       1.462200         -1  \n",
       "1566       1.462862         -1  \n",
       "\n",
       "[1567 rows x 10 columns]"
      ]
     },
     "execution_count": 17,
     "metadata": {},
     "output_type": "execute_result"
    }
   ],
   "source": [
    "data "
   ]
  },
  {
   "cell_type": "code",
   "execution_count": 18,
   "metadata": {},
   "outputs": [
    {
     "data": {
      "text/plain": [
       "<matplotlib.axes._subplots.AxesSubplot at 0x28480096910>"
      ]
     },
     "execution_count": 18,
     "metadata": {},
     "output_type": "execute_result"
    },
    {
     "data": {
      "image/png": "[encoded data removed]",
      "text/plain": [
       "<Figure size 648x360 with 1 Axes>"
      ]
     },
     "metadata": {
      "needs_background": "light"
     },
     "output_type": "display_data"
    }
   ],
   "source": [
    "plt.figure(figsize = (9, 5)) \n",
    "data['Pass/Fail'].plot(kind =\"hist\")"
   ]
  },
  {
   "cell_type": "markdown",
   "metadata": {},
   "source": [
    "# THE DATA SET IS NOW READY..\n",
    "\n",
    "\n",
    "# WE CAN BEGIN WITH OUR TRAINING MODELS\n",
    "\n",
    "\n",
    "\n"
   ]
  },
  {
   "cell_type": "markdown",
   "metadata": {},
   "source": [
    "## In this model, we took took 4 algorithms and varied their various parameters and compared the final models. \n",
    "##  dataset  is spit into 67% training data and 33% testing data."
   ]
  },
  {
   "cell_type": "code",
   "execution_count": 19,
   "metadata": {},
   "outputs": [],
   "source": [
    "from sklearn.model_selection import train_test_split\n",
    "\n",
    "predictors = data.drop(\"Pass/Fail\",axis=1)\n",
    "target = data[\"Pass/Fail\"]\n",
    "\n",
    "X_train,X_test,Y_train,Y_test = train_test_split(predictors,target,test_size=0.20,random_state=0)"
   ]
  },
  {
   "cell_type": "code",
   "execution_count": 20,
   "metadata": {},
   "outputs": [
    {
     "data": {
      "text/html": [
       "<div>\n",
       "<style scoped>\n",
       "    .dataframe tbody tr th:only-of-type {\n",
       "        vertical-align: middle;\n",
       "    }\n",
       "\n",
       "    .dataframe tbody tr th {\n",
       "        vertical-align: top;\n",
       "    }\n",
       "\n",
       "    .dataframe thead th {\n",
       "        text-align: right;\n",
       "    }\n",
       "</style>\n",
       "<table border=\"1\" class=\"dataframe\">\n",
       "  <thead>\n",
       "    <tr style=\"text-align: right;\">\n",
       "      <th></th>\n",
       "      <th>Room_Temp</th>\n",
       "      <th>silica_effect</th>\n",
       "      <th>cmoa_design</th>\n",
       "      <th>current_leakage</th>\n",
       "      <th>Voltage_leakage</th>\n",
       "      <th>Cut_off_freq</th>\n",
       "      <th>avoid_dust_partical</th>\n",
       "      <th>avoid_uv_light</th>\n",
       "      <th>wafer_process</th>\n",
       "    </tr>\n",
       "  </thead>\n",
       "  <tbody>\n",
       "    <tr>\n",
       "      <th>1476</th>\n",
       "      <td>3000.24</td>\n",
       "      <td>2477.37</td>\n",
       "      <td>2207.1000</td>\n",
       "      <td>1298.4309</td>\n",
       "      <td>1.0251</td>\n",
       "      <td>100.0</td>\n",
       "      <td>96.9478</td>\n",
       "      <td>0.1203</td>\n",
       "      <td>1.4642</td>\n",
       "    </tr>\n",
       "    <tr>\n",
       "      <th>218</th>\n",
       "      <td>3038.21</td>\n",
       "      <td>2521.84</td>\n",
       "      <td>2273.7556</td>\n",
       "      <td>1549.8407</td>\n",
       "      <td>1.4105</td>\n",
       "      <td>100.0</td>\n",
       "      <td>105.0467</td>\n",
       "      <td>0.1171</td>\n",
       "      <td>1.3666</td>\n",
       "    </tr>\n",
       "    <tr>\n",
       "      <th>1137</th>\n",
       "      <td>2895.09</td>\n",
       "      <td>2552.96</td>\n",
       "      <td>2260.7333</td>\n",
       "      <td>1969.7867</td>\n",
       "      <td>1.2109</td>\n",
       "      <td>100.0</td>\n",
       "      <td>91.3367</td>\n",
       "      <td>0.1207</td>\n",
       "      <td>1.4135</td>\n",
       "    </tr>\n",
       "    <tr>\n",
       "      <th>1533</th>\n",
       "      <td>3011.32</td>\n",
       "      <td>2417.43</td>\n",
       "      <td>2184.9889</td>\n",
       "      <td>1124.2096</td>\n",
       "      <td>2.1987</td>\n",
       "      <td>100.0</td>\n",
       "      <td>114.5856</td>\n",
       "      <td>0.1265</td>\n",
       "      <td>1.3834</td>\n",
       "    </tr>\n",
       "    <tr>\n",
       "      <th>1092</th>\n",
       "      <td>3186.16</td>\n",
       "      <td>2316.01</td>\n",
       "      <td>2169.9444</td>\n",
       "      <td>1095.3519</td>\n",
       "      <td>1.3425</td>\n",
       "      <td>100.0</td>\n",
       "      <td>104.0144</td>\n",
       "      <td>0.1208</td>\n",
       "      <td>1.4757</td>\n",
       "    </tr>\n",
       "    <tr>\n",
       "      <th>...</th>\n",
       "      <td>...</td>\n",
       "      <td>...</td>\n",
       "      <td>...</td>\n",
       "      <td>...</td>\n",
       "      <td>...</td>\n",
       "      <td>...</td>\n",
       "      <td>...</td>\n",
       "      <td>...</td>\n",
       "      <td>...</td>\n",
       "    </tr>\n",
       "    <tr>\n",
       "      <th>763</th>\n",
       "      <td>3032.26</td>\n",
       "      <td>2455.05</td>\n",
       "      <td>2145.4555</td>\n",
       "      <td>1017.0577</td>\n",
       "      <td>1.4534</td>\n",
       "      <td>100.0</td>\n",
       "      <td>103.7878</td>\n",
       "      <td>0.1229</td>\n",
       "      <td>1.3602</td>\n",
       "    </tr>\n",
       "    <tr>\n",
       "      <th>835</th>\n",
       "      <td>3003.72</td>\n",
       "      <td>2537.66</td>\n",
       "      <td>2210.7778</td>\n",
       "      <td>2008.9216</td>\n",
       "      <td>1.1351</td>\n",
       "      <td>100.0</td>\n",
       "      <td>91.1078</td>\n",
       "      <td>0.1240</td>\n",
       "      <td>1.3940</td>\n",
       "    </tr>\n",
       "    <tr>\n",
       "      <th>1216</th>\n",
       "      <td>3031.85</td>\n",
       "      <td>2439.42</td>\n",
       "      <td>2172.8111</td>\n",
       "      <td>969.3436</td>\n",
       "      <td>1.2736</td>\n",
       "      <td>100.0</td>\n",
       "      <td>102.7367</td>\n",
       "      <td>0.1243</td>\n",
       "      <td>1.4711</td>\n",
       "    </tr>\n",
       "    <tr>\n",
       "      <th>559</th>\n",
       "      <td>3072.99</td>\n",
       "      <td>2471.62</td>\n",
       "      <td>2126.6555</td>\n",
       "      <td>1015.0770</td>\n",
       "      <td>1.4381</td>\n",
       "      <td>100.0</td>\n",
       "      <td>102.4733</td>\n",
       "      <td>0.1255</td>\n",
       "      <td>1.5006</td>\n",
       "    </tr>\n",
       "    <tr>\n",
       "      <th>684</th>\n",
       "      <td>2960.65</td>\n",
       "      <td>2442.71</td>\n",
       "      <td>2159.0556</td>\n",
       "      <td>1084.3779</td>\n",
       "      <td>0.8184</td>\n",
       "      <td>100.0</td>\n",
       "      <td>100.7056</td>\n",
       "      <td>0.1249</td>\n",
       "      <td>1.4623</td>\n",
       "    </tr>\n",
       "  </tbody>\n",
       "</table>\n",
       "<p>1253 rows × 9 columns</p>\n",
       "</div>"
      ],
      "text/plain": [
       "      Room_Temp  silica_effect   cmoa_design  current_leakage  \\\n",
       "1476    3000.24         2477.37    2207.1000        1298.4309   \n",
       "218     3038.21         2521.84    2273.7556        1549.8407   \n",
       "1137    2895.09         2552.96    2260.7333        1969.7867   \n",
       "1533    3011.32         2417.43    2184.9889        1124.2096   \n",
       "1092    3186.16         2316.01    2169.9444        1095.3519   \n",
       "...         ...             ...          ...              ...   \n",
       "763     3032.26         2455.05    2145.4555        1017.0577   \n",
       "835     3003.72         2537.66    2210.7778        2008.9216   \n",
       "1216    3031.85         2439.42    2172.8111         969.3436   \n",
       "559     3072.99         2471.62    2126.6555        1015.0770   \n",
       "684     2960.65         2442.71    2159.0556        1084.3779   \n",
       "\n",
       "      Voltage_leakage  Cut_off_freq  avoid_dust_partical  avoid_uv_light  \\\n",
       "1476           1.0251         100.0              96.9478          0.1203   \n",
       "218            1.4105         100.0             105.0467          0.1171   \n",
       "1137           1.2109         100.0              91.3367          0.1207   \n",
       "1533           2.1987         100.0             114.5856          0.1265   \n",
       "1092           1.3425         100.0             104.0144          0.1208   \n",
       "...               ...           ...                  ...             ...   \n",
       "763            1.4534         100.0             103.7878          0.1229   \n",
       "835            1.1351         100.0              91.1078          0.1240   \n",
       "1216           1.2736         100.0             102.7367          0.1243   \n",
       "559            1.4381         100.0             102.4733          0.1255   \n",
       "684            0.8184         100.0             100.7056          0.1249   \n",
       "\n",
       "      wafer_process  \n",
       "1476         1.4642  \n",
       "218          1.3666  \n",
       "1137         1.4135  \n",
       "1533         1.3834  \n",
       "1092         1.4757  \n",
       "...             ...  \n",
       "763          1.3602  \n",
       "835          1.3940  \n",
       "1216         1.4711  \n",
       "559          1.5006  \n",
       "684          1.4623  \n",
       "\n",
       "[1253 rows x 9 columns]"
      ]
     },
     "execution_count": 20,
     "metadata": {},
     "output_type": "execute_result"
    }
   ],
   "source": [
    "X_train"
   ]
  },
  {
   "cell_type": "code",
   "execution_count": 21,
   "metadata": {
    "scrolled": true
   },
   "outputs": [
    {
     "data": {
      "text/plain": [
       "1476   -1\n",
       "218     1\n",
       "1137   -1\n",
       "1533   -1\n",
       "1092   -1\n",
       "       ..\n",
       "763    -1\n",
       "835    -1\n",
       "1216   -1\n",
       "559    -1\n",
       "684    -1\n",
       "Name: Pass/Fail, Length: 1253, dtype: int64"
      ]
     },
     "execution_count": 21,
     "metadata": {},
     "output_type": "execute_result"
    }
   ],
   "source": [
    "Y_train"
   ]
  },
  {
   "cell_type": "markdown",
   "metadata": {},
   "source": [
    "##  Next step is on understanding the data.\n",
    "###  We use Correalation Matrix here understand the degree of association between the features."
   ]
  },
  {
   "cell_type": "code",
   "execution_count": 22,
   "metadata": {},
   "outputs": [
    {
     "data": {
      "text/plain": [
       "<matplotlib.colorbar.Colorbar at 0x284802bf0a0>"
      ]
     },
     "execution_count": 22,
     "metadata": {},
     "output_type": "execute_result"
    },
    {
     "data": {
      "image/png": "[encoded data removed]",
      "text/plain": [
       "<Figure size 1152x1152 with 2 Axes>"
      ]
     },
     "metadata": {
      "needs_background": "light"
     },
     "output_type": "display_data"
    }
   ],
   "source": [
    "rcParams['figure.figsize'] = 20, 20\n",
    "plt.matshow(data.corr())\n",
    "plt.yticks(np.arange(data.shape[1]), data.columns)\n",
    "plt.xticks(np.arange(data.shape[1]), data.columns)\n",
    "plt.colorbar()"
   ]
  },
  {
   "cell_type": "markdown",
   "metadata": {},
   "source": [
    "## We find no feature that has a significant correalation with the target value\n",
    "###  Some features even have negative correlation with the target value, but few features have lower positive correlation"
   ]
  },
  {
   "cell_type": "code",
   "execution_count": 23,
   "metadata": {},
   "outputs": [
    {
     "data": {
      "text/plain": [
       "array([[<matplotlib.axes._subplots.AxesSubplot object at 0x00000284FFEECFD0>,\n",
       "        <matplotlib.axes._subplots.AxesSubplot object at 0x0000028480BDE0A0>,\n",
       "        <matplotlib.axes._subplots.AxesSubplot object at 0x00000284803574F0>],\n",
       "       [<matplotlib.axes._subplots.AxesSubplot object at 0x0000028480384970>,\n",
       "        <matplotlib.axes._subplots.AxesSubplot object at 0x00000284803B0DF0>,\n",
       "        <matplotlib.axes._subplots.AxesSubplot object at 0x00000284803E8220>],\n",
       "       [<matplotlib.axes._subplots.AxesSubplot object at 0x00000284803E8310>,\n",
       "        <matplotlib.axes._subplots.AxesSubplot object at 0x00000284804137F0>,\n",
       "        <matplotlib.axes._subplots.AxesSubplot object at 0x000002848046D0A0>],\n",
       "       [<matplotlib.axes._subplots.AxesSubplot object at 0x00000284804A54C0>,\n",
       "        <matplotlib.axes._subplots.AxesSubplot object at 0x00000284804D3850>,\n",
       "        <matplotlib.axes._subplots.AxesSubplot object at 0x00000284804F3E80>]],\n",
       "      dtype=object)"
      ]
     },
     "execution_count": 23,
     "metadata": {},
     "output_type": "execute_result"
    },
    {
     "data": {
      "image/png": "[encoded data removed]",
      "text/plain": [
       "<Figure size 1440x1440 with 12 Axes>"
      ]
     },
     "metadata": {
      "needs_background": "light"
     },
     "output_type": "display_data"
    }
   ],
   "source": [
    "data.hist()"
   ]
  },
  {
   "cell_type": "code",
   "execution_count": 24,
   "metadata": {},
   "outputs": [
    {
     "data": {
      "text/html": [
       "<div>\n",
       "<style scoped>\n",
       "    .dataframe tbody tr th:only-of-type {\n",
       "        vertical-align: middle;\n",
       "    }\n",
       "\n",
       "    .dataframe tbody tr th {\n",
       "        vertical-align: top;\n",
       "    }\n",
       "\n",
       "    .dataframe thead th {\n",
       "        text-align: right;\n",
       "    }\n",
       "</style>\n",
       "<table border=\"1\" class=\"dataframe\">\n",
       "  <thead>\n",
       "    <tr style=\"text-align: right;\">\n",
       "      <th></th>\n",
       "      <th>Room_Temp</th>\n",
       "      <th>silica_effect</th>\n",
       "      <th>cmoa_design</th>\n",
       "      <th>current_leakage</th>\n",
       "      <th>Voltage_leakage</th>\n",
       "      <th>Cut_off_freq</th>\n",
       "      <th>avoid_dust_partical</th>\n",
       "      <th>avoid_uv_light</th>\n",
       "      <th>wafer_process</th>\n",
       "      <th>Pass/Fail</th>\n",
       "    </tr>\n",
       "  </thead>\n",
       "  <tbody>\n",
       "    <tr>\n",
       "      <th>count</th>\n",
       "      <td>1567.000000</td>\n",
       "      <td>1567.000000</td>\n",
       "      <td>1567.000000</td>\n",
       "      <td>1567.000000</td>\n",
       "      <td>1567.000000</td>\n",
       "      <td>1567.0</td>\n",
       "      <td>1567.000000</td>\n",
       "      <td>1567.000000</td>\n",
       "      <td>1567.000000</td>\n",
       "      <td>1567.000000</td>\n",
       "    </tr>\n",
       "    <tr>\n",
       "      <th>mean</th>\n",
       "      <td>3014.452896</td>\n",
       "      <td>2495.850231</td>\n",
       "      <td>2200.547318</td>\n",
       "      <td>1396.376627</td>\n",
       "      <td>4.197013</td>\n",
       "      <td>100.0</td>\n",
       "      <td>101.112908</td>\n",
       "      <td>0.121822</td>\n",
       "      <td>1.462862</td>\n",
       "      <td>-0.867262</td>\n",
       "    </tr>\n",
       "    <tr>\n",
       "      <th>std</th>\n",
       "      <td>73.480613</td>\n",
       "      <td>80.227793</td>\n",
       "      <td>29.380932</td>\n",
       "      <td>439.712852</td>\n",
       "      <td>56.103066</td>\n",
       "      <td>0.0</td>\n",
       "      <td>6.209271</td>\n",
       "      <td>0.008936</td>\n",
       "      <td>0.073849</td>\n",
       "      <td>0.498010</td>\n",
       "    </tr>\n",
       "    <tr>\n",
       "      <th>min</th>\n",
       "      <td>2743.240000</td>\n",
       "      <td>2158.750000</td>\n",
       "      <td>2060.660000</td>\n",
       "      <td>0.000000</td>\n",
       "      <td>0.681500</td>\n",
       "      <td>100.0</td>\n",
       "      <td>82.131100</td>\n",
       "      <td>0.000000</td>\n",
       "      <td>1.191000</td>\n",
       "      <td>-1.000000</td>\n",
       "    </tr>\n",
       "    <tr>\n",
       "      <th>25%</th>\n",
       "      <td>2966.665000</td>\n",
       "      <td>2452.885000</td>\n",
       "      <td>2181.099950</td>\n",
       "      <td>1083.885800</td>\n",
       "      <td>1.017700</td>\n",
       "      <td>100.0</td>\n",
       "      <td>97.937800</td>\n",
       "      <td>0.121100</td>\n",
       "      <td>1.411250</td>\n",
       "      <td>-1.000000</td>\n",
       "    </tr>\n",
       "    <tr>\n",
       "      <th>50%</th>\n",
       "      <td>3011.840000</td>\n",
       "      <td>2498.910000</td>\n",
       "      <td>2200.955600</td>\n",
       "      <td>1287.353800</td>\n",
       "      <td>1.317100</td>\n",
       "      <td>100.0</td>\n",
       "      <td>101.492200</td>\n",
       "      <td>0.122400</td>\n",
       "      <td>1.461600</td>\n",
       "      <td>-1.000000</td>\n",
       "    </tr>\n",
       "    <tr>\n",
       "      <th>75%</th>\n",
       "      <td>3056.540000</td>\n",
       "      <td>2538.745000</td>\n",
       "      <td>2218.055500</td>\n",
       "      <td>1590.169900</td>\n",
       "      <td>1.529600</td>\n",
       "      <td>100.0</td>\n",
       "      <td>104.530000</td>\n",
       "      <td>0.123800</td>\n",
       "      <td>1.516850</td>\n",
       "      <td>-1.000000</td>\n",
       "    </tr>\n",
       "    <tr>\n",
       "      <th>max</th>\n",
       "      <td>3356.350000</td>\n",
       "      <td>2846.440000</td>\n",
       "      <td>2315.266700</td>\n",
       "      <td>3715.041700</td>\n",
       "      <td>1114.536600</td>\n",
       "      <td>100.0</td>\n",
       "      <td>129.252200</td>\n",
       "      <td>0.128600</td>\n",
       "      <td>1.656400</td>\n",
       "      <td>1.000000</td>\n",
       "    </tr>\n",
       "  </tbody>\n",
       "</table>\n",
       "</div>"
      ],
      "text/plain": [
       "         Room_Temp  silica_effect   cmoa_design  current_leakage  \\\n",
       "count  1567.000000     1567.000000  1567.000000      1567.000000   \n",
       "mean   3014.452896     2495.850231  2200.547318      1396.376627   \n",
       "std      73.480613       80.227793    29.380932       439.712852   \n",
       "min    2743.240000     2158.750000  2060.660000         0.000000   \n",
       "25%    2966.665000     2452.885000  2181.099950      1083.885800   \n",
       "50%    3011.840000     2498.910000  2200.955600      1287.353800   \n",
       "75%    3056.540000     2538.745000  2218.055500      1590.169900   \n",
       "max    3356.350000     2846.440000  2315.266700      3715.041700   \n",
       "\n",
       "       Voltage_leakage  Cut_off_freq  avoid_dust_partical  avoid_uv_light  \\\n",
       "count      1567.000000        1567.0          1567.000000     1567.000000   \n",
       "mean          4.197013         100.0           101.112908        0.121822   \n",
       "std          56.103066           0.0             6.209271        0.008936   \n",
       "min           0.681500         100.0            82.131100        0.000000   \n",
       "25%           1.017700         100.0            97.937800        0.121100   \n",
       "50%           1.317100         100.0           101.492200        0.122400   \n",
       "75%           1.529600         100.0           104.530000        0.123800   \n",
       "max        1114.536600         100.0           129.252200        0.128600   \n",
       "\n",
       "       wafer_process    Pass/Fail  \n",
       "count    1567.000000  1567.000000  \n",
       "mean        1.462862    -0.867262  \n",
       "std         0.073849     0.498010  \n",
       "min         1.191000    -1.000000  \n",
       "25%         1.411250    -1.000000  \n",
       "50%         1.461600    -1.000000  \n",
       "75%         1.516850    -1.000000  \n",
       "max         1.656400     1.000000  "
      ]
     },
     "execution_count": 24,
     "metadata": {},
     "output_type": "execute_result"
    }
   ],
   "source": [
    "data.describe()"
   ]
  },
  {
   "cell_type": "markdown",
   "metadata": {},
   "source": [
    "## Algorithm 1: K Neighbours Classifier\n",
    "This classifier looks for the classes of K nearest neighbors of a given data point and based on the majority class, it assigns a class to this data point. However, the number of neighbors can be varied.Neighbours can be varied them from 1 to 20 neighbors and calculated the test score in each case."
   ]
  },
  {
   "cell_type": "code",
   "execution_count": 25,
   "metadata": {},
   "outputs": [
    {
     "data": {
      "text/plain": [
       "[0.8980891719745223,\n",
       " 0.9554140127388535,\n",
       " 0.9490445859872612,\n",
       " 0.9554140127388535,\n",
       " 0.9554140127388535,\n",
       " 0.9585987261146497,\n",
       " 0.9585987261146497,\n",
       " 0.9585987261146497,\n",
       " 0.9585987261146497,\n",
       " 0.9585987261146497,\n",
       " 0.9585987261146497,\n",
       " 0.9585987261146497,\n",
       " 0.9585987261146497,\n",
       " 0.9585987261146497,\n",
       " 0.9585987261146497,\n",
       " 0.9585987261146497,\n",
       " 0.9585987261146497,\n",
       " 0.9585987261146497,\n",
       " 0.9585987261146497,\n",
       " 0.9585987261146497]"
      ]
     },
     "execution_count": 25,
     "metadata": {},
     "output_type": "execute_result"
    }
   ],
   "source": [
    "from sklearn.neighbors import KNeighborsClassifier\n",
    "knn_scores = []\n",
    "for k in range(1,21):\n",
    "    knn_classifier = KNeighborsClassifier(n_neighbors = k)\n",
    "    knn_classifier.fit(X_train, Y_train)\n",
    "    knn_scores.append(knn_classifier.score(X_test, Y_test))\n",
    "knn_scores"
   ]
  },
  {
   "cell_type": "markdown",
   "metadata": {},
   "source": [
    "### Training and Testing phase Completed.\n",
    "### Next Plotting\n"
   ]
  },
  {
   "cell_type": "code",
   "execution_count": 26,
   "metadata": {},
   "outputs": [
    {
     "data": {
      "text/plain": [
       "Text(0.5, 1.0, 'K Neighbors Classifier scores for different K values')"
      ]
     },
     "execution_count": 26,
     "metadata": {},
     "output_type": "execute_result"
    },
    {
     "data": {
      "image/png": "[encoded data removed]",
      "text/plain": [
       "<Figure size 720x720 with 1 Axes>"
      ]
     },
     "metadata": {
      "needs_background": "light"
     },
     "output_type": "display_data"
    }
   ],
   "source": [
    "rcParams['figure.figsize'] = 10,10\n",
    "plt.plot([k for k in range(1, 21)], knn_scores, color = 'red')\n",
    "for i in range(1,21):\n",
    "    plt.text(i, knn_scores[i-1], (i, knn_scores[i-1]))\n",
    "plt.xticks([i for i in range(1, 21)])\n",
    "plt.xlabel('Number of Neighbors (K)')\n",
    "plt.ylabel('Scores')\n",
    "plt.title('K Neighbors Classifier scores for different K values')"
   ]
  },
  {
   "cell_type": "markdown",
   "metadata": {},
   "source": [
    "# Navie Bayes"
   ]
  },
  {
   "cell_type": "code",
   "execution_count": 27,
   "metadata": {},
   "outputs": [],
   "source": [
    "import sklearn\n",
    "from sklearn.naive_bayes import BernoulliNB\n",
    "from sklearn import metrics\n",
    "from sklearn.metrics import accuracy_score"
   ]
  },
  {
   "cell_type": "code",
   "execution_count": 28,
   "metadata": {},
   "outputs": [
    {
     "name": "stdout",
     "output_type": "stream",
     "text": [
      "BernoulliNB(binarize=0.1)\n",
      "95.85987261146497\n"
     ]
    }
   ],
   "source": [
    "BernNB = BernoulliNB(binarize=.1)\n",
    "BernNB.fit(X_train,Y_train)\n",
    "print(BernNB)\n",
    "y_expect = Y_test\n",
    "y_pred = BernNB.predict(X_test)\n",
    "print(accuracy_score(y_expect,y_pred)*100)\n",
    "score_nb = accuracy_score(y_expect,y_pred)*100"
   ]
  },
  {
   "cell_type": "code",
   "execution_count": 29,
   "metadata": {},
   "outputs": [
    {
     "name": "stdout",
     "output_type": "stream",
     "text": [
      "[[301   0]\n",
      " [ 13   0]]\n"
     ]
    }
   ],
   "source": [
    "from sklearn.metrics import confusion_matrix\n",
    "print(confusion_matrix(Y_test, y_pred))"
   ]
  },
  {
   "cell_type": "markdown",
   "metadata": {},
   "source": [
    "# Decision Tree"
   ]
  },
  {
   "cell_type": "code",
   "execution_count": 30,
   "metadata": {},
   "outputs": [],
   "source": [
    "from sklearn.tree import DecisionTreeClassifier\n",
    "from sklearn.metrics import accuracy_score\n",
    "from sklearn import tree"
   ]
  },
  {
   "cell_type": "code",
   "execution_count": 31,
   "metadata": {},
   "outputs": [
    {
     "data": {
      "text/plain": [
       "DecisionTreeClassifier(criterion='entropy', max_depth=5, min_samples_leaf=3,\n",
       "                       random_state=100)"
      ]
     },
     "execution_count": 31,
     "metadata": {},
     "output_type": "execute_result"
    }
   ],
   "source": [
    "clf_entropy = DecisionTreeClassifier(criterion=\"entropy\",random_state=100,max_depth=5,min_samples_leaf=3)\n",
    "\n",
    "clf_entropy.fit(X_train,Y_train)"
   ]
  },
  {
   "cell_type": "code",
   "execution_count": 32,
   "metadata": {},
   "outputs": [
    {
     "name": "stdout",
     "output_type": "stream",
     "text": [
      "95.85987261146497\n"
     ]
    }
   ],
   "source": [
    "y_pred_en = clf_entropy.predict(X_test)\n",
    "y_pred_en\n",
    "print(accuracy_score(y_expect,y_pred)*100)\n",
    "score_dt = accuracy_score(Y_test,y_pred_en)*100"
   ]
  },
  {
   "cell_type": "code",
   "execution_count": 33,
   "metadata": {},
   "outputs": [
    {
     "name": "stdout",
     "output_type": "stream",
     "text": [
      "[[299   2]\n",
      " [ 13   0]]\n"
     ]
    }
   ],
   "source": [
    "from sklearn.metrics import confusion_matrix\n",
    "print(confusion_matrix(Y_test, y_pred_en))"
   ]
  },
  {
   "cell_type": "markdown",
   "metadata": {},
   "source": [
    "# Random Forest"
   ]
  },
  {
   "cell_type": "code",
   "execution_count": 34,
   "metadata": {},
   "outputs": [],
   "source": [
    "from sklearn.ensemble import RandomForestClassifier\n",
    "\n",
    "max_accuracy = 0\n",
    "\n",
    "\n",
    "for x in range(2):\n",
    "    rf = RandomForestClassifier(random_state=x)\n",
    "    rf.fit(X_train,Y_train)\n",
    "    Y_pred_rf = rf.predict(X_test)\n",
    "    current_accuracy = round(accuracy_score(Y_pred_rf,Y_test)*100,2)\n",
    "    if(current_accuracy>max_accuracy):\n",
    "        max_accuracy = current_accuracy\n",
    "        best_x = x\n",
    "        \n",
    "#print(max_accuracy)\n",
    "#print(best_x)\n",
    "\n",
    "rf = RandomForestClassifier(random_state=best_x)\n",
    "rf.fit(X_train,Y_train)\n",
    "Y_pred_rf = rf.predict(X_test)"
   ]
  },
  {
   "cell_type": "code",
   "execution_count": 35,
   "metadata": {},
   "outputs": [
    {
     "name": "stdout",
     "output_type": "stream",
     "text": [
      "The accuracy score achieved using Decision Tree is: 95.54 %\n"
     ]
    }
   ],
   "source": [
    "score_rf = round(accuracy_score(Y_pred_rf,Y_test)*100,2)\n",
    "\n",
    "print(\"The accuracy score achieved using Decision Tree is: \"+str(score_rf)+\" %\")"
   ]
  },
  {
   "cell_type": "code",
   "execution_count": 36,
   "metadata": {},
   "outputs": [
    {
     "name": "stdout",
     "output_type": "stream",
     "text": [
      "The accuracy score achieved using naive_bayes is: 95.85987261146497 %\n",
      "The accuracy score achieved using Decision Tree is: 95.22292993630573 %\n",
      "The accuracy score achieved using Random Forest is: 95.54 %\n"
     ]
    }
   ],
   "source": [
    "scores = [score_nb,score_dt,score_rf]\n",
    "algorithms = [\"naive_bayes\",\"Decision Tree\",\"Random Forest\"]    \n",
    "\n",
    "for i in range(len(algorithms)):\n",
    "    print(\"The accuracy score achieved using \"+algorithms[i]+\" is: \"+str(scores[i])+\" %\")"
   ]
  },
  {
   "cell_type": "code",
   "execution_count": 37,
   "metadata": {
    "scrolled": false
   },
   "outputs": [
    {
     "data": {
      "text/plain": [
       "<matplotlib.axes._subplots.AxesSubplot at 0x284813408e0>"
      ]
     },
     "execution_count": 37,
     "metadata": {},
     "output_type": "execute_result"
    },
    {
     "data": {
      "image/png": "[encoded data removed]",
      "text/plain": [
       "<Figure size 1080x576 with 1 Axes>"
      ]
     },
     "metadata": {},
     "output_type": "display_data"
    }
   ],
   "source": [
    "sns.set(rc={'figure.figsize':(15,8)})\n",
    "plt.xlabel(\"Algorithms\")\n",
    "plt.ylabel(\"Accuracy score\")\n",
    "sns.barplot(algorithms,scores)"
   ]
  },
  {
   "cell_type": "code",
   "execution_count": null,
   "metadata": {},
   "outputs": [
    {
     "name": "stdout",
     "output_type": "stream",
     "text": [
      "BernoulliNB(binarize=0.1)\n",
      "95.85987261146497\n",
      "PASS\n",
      "Yes,you may Proceed!\n",
      "BernoulliNB(binarize=0.1)\n",
      "95.85987261146497\n",
      "FAIL\n",
      "Sorry there is a glitch somewhere\n"
     ]
    }
   ],
   "source": [
    "from tkinter import *\n",
    "from tkinter import ttk\n",
    "\n",
    "root = Tk()\n",
    "root.title('Industrial Monitoring')\n",
    "root.geometry('1200x850')\n",
    "#root.config(font=(\"Courier 35 italic bold \"),background=\"#DDE794\")\n",
    "root.configure(background=\"tan1\")\n",
    "\n",
    "var = StringVar()\n",
    "label = Label( root, textvariable = var,font=('arial',20,'bold'),bd=20,background=\"tan1\")\n",
    "var.set('Industrial Monitoring')\n",
    "label.grid(row=0,columnspan=6)\n",
    "\n",
    "\n",
    "\n",
    "label_1 = ttk.Label(root, text ='Room_Temp',font=(\"Helvetica\", 16),background=\"tan1\")\n",
    "label_1.grid(row=11,column=0)\n",
    "    \n",
    "Entry_1= Entry(root)\n",
    "Entry_1.grid(row=11,column=1)\n",
    "\n",
    "\n",
    "label_2 = ttk.Label(root, text ='silica_effect',font=(\"Helvetica\", 16),background=\"tan1\")\n",
    "label_2.grid(row=12,column=0)\n",
    "    \n",
    "Entry_2 = Entry(root)\n",
    "Entry_2.grid(row=12,column=1)\n",
    "    \n",
    "    \n",
    "label_3 = ttk.Label(root, text ='cmoa_design',font=(\"Helvetica\", 16),background=\"tan1\")\n",
    "label_3.grid(row=13,column=0)\n",
    "    \n",
    "Entry_3 = Entry(root)\n",
    "Entry_3.grid(row=13,column=1)\n",
    "\n",
    "label_4 = ttk.Label(root, text ='current_leakage',font=(\"Helvetica\", 16),background=\"tan1\")\n",
    "label_4.grid(row=14,column=0)\n",
    "    \n",
    "Entry_4= Entry(root)\n",
    "Entry_4.grid(row=14,column=1)\n",
    "\n",
    "label_5 = ttk.Label(root, text ='Voltage_leakage',font=(\"Helvetica\", 16),background=\"tan1\")\n",
    "label_5.grid(row=15,column=0)\n",
    "    \n",
    "Entry_5 = Entry(root)\n",
    "Entry_5.grid(row=15,column=1)\n",
    "    \n",
    "    \n",
    "label_6 = ttk.Label(root, text ='Cut_off_freq',font=(\"Helvetica\", 16),background=\"tan1\")\n",
    "label_6.grid(row=16,column=0)\n",
    "    \n",
    "Entry_6 = Entry(root)\n",
    "Entry_6.grid(row=16,column=1)\n",
    "\n",
    "label_7 = ttk.Label(root, text ='avoid_dust_partical',font=(\"Helvetica\", 16),background=\"tan1\")\n",
    "label_7.grid(row=17,column=0)\n",
    "    \n",
    "Entry_7= Entry(root)\n",
    "Entry_7.grid(row=17,column=1)\n",
    "\n",
    "label_8 = ttk.Label(root, text ='avoid_uv_light',font=(\"Helvetica\", 16),background=\"tan1\")\n",
    "label_8.grid(row=18,column=0)\n",
    "\n",
    "Entry_8 = Entry(root)\n",
    "Entry_8.grid(row=18,column=1)\n",
    "    \n",
    "    \n",
    "label_9 = ttk.Label(root, text ='wafer_process',font=(\"Helvetica\", 16),background=\"tan1\")\n",
    "label_9.grid(row=19,column=0)\n",
    "    \n",
    "Entry_9 = Entry(root)\n",
    "Entry_9.grid(row=19,column=1)\n",
    "\n",
    "\n",
    "def predict():\n",
    "    predictors = data.iloc[:,:9]\n",
    "    target = data[\"Pass/Fail\"]\n",
    "    X_train,X_test,Y_train,Y_test = train_test_split(predictors,target,test_size=0.20,random_state=0)\n",
    "    BernNB = BernoulliNB(binarize=.1)\n",
    "    BernNB.fit(X_train,Y_train)\n",
    "    print(BernNB)\n",
    "    y_expect = Y_test\n",
    "    y_pred = BernNB.predict(X_test)\n",
    "    print(accuracy_score(y_expect,y_pred)*100)\n",
    "    score_nb = accuracy_score(y_expect,y_pred)*100\n",
    "    \n",
    "    Room_Temp = Entry_1.get()\n",
    "    silica_effect = Entry_2.get()\n",
    "    cmoa_design = Entry_3.get()\n",
    "    current_leakage = Entry_4.get()\n",
    "    Voltage_leakage = Entry_5.get()\n",
    "    Cut_off_freq = Entry_6.get()\n",
    "    avoid_dust_partical = Entry_7.get()\n",
    "    avoid_uv_light = Entry_8.get()\n",
    "    wafer_process = Entry_9.get() \n",
    "    out = BernNB.predict([[float(Room_Temp),\n",
    "       float(silica_effect),\n",
    "       float(cmoa_design),\n",
    "       float(current_leakage),\n",
    "       float(Voltage_leakage),\n",
    "       float(Cut_off_freq),\n",
    "       float(avoid_dust_partical),\n",
    "       float(avoid_uv_light),\n",
    "       float(wafer_process)]])\n",
    "    if out == -1:\n",
    "        print(\"PASS\")\n",
    "        print(\"Yes,you may Proceed!\")\n",
    "        output.delete(0,END)\n",
    "        output.insert(0,'PASS')     \n",
    "    else:\n",
    "        print(\"FAIL\")\n",
    "        print(\"Sorry there is a glitch somewhere\")\n",
    "        output.delete(0,END)\n",
    "        output.insert(0,'FAIL')\n",
    "\n",
    "b1 = Button(root, text = 'Pass/Fail',font=(\"Helvetica\", 16),background=\"RosyBrown1\",command = predict)\n",
    "b1.grid(row=20,column=0)\n",
    "    \n",
    "\n",
    "output = Entry(root)\n",
    "output.grid(row=20,column=1)\n",
    "    \n",
    "root.mainloop()"
   ]
  }
 ],
 "metadata": {
  "kernelspec": {
   "display_name": "Python 3",
   "language": "python",
   "name": "python3"
  },
  "language_info": {
   "codemirror_mode": {
    "name": "ipython",
    "version": 3
   },
   "file_extension": ".py",
   "mimetype": "text/x-python",
   "name": "python",
   "nbconvert_exporter": "python",
   "pygments_lexer": "ipython3",
   "version": "3.8.3"
  }
 },
 "nbformat": 4,
 "nbformat_minor": 4
}
